{
 "cells": [
  {
   "cell_type": "markdown",
   "metadata": {},
   "source": [
    "## 作業1: 請上 Kaggle, 在 Competitions 或 Dataset 中找一組競賽或資料並寫下：\n",
    "\n",
    "### 資料選擇：Google, Amazon and more Employee Reviews\n",
    "https://www.kaggle.com/petersunga/google-amazon-facebook-employee-reviews\n",
    "\n",
    "#### 1. 你選的這組資料為何重要\n",
    "\n",
    "跨國企業員工的工作型態、福利通常是HR規劃企業招聘流程、員工福利的指標，對求職者而言也是選擇職務、選擇企業的重要參考。\n",
    "\n",
    "### 2. 資料從何而來 (tips: 譬如提供者是誰、以什麼方式蒐集)\n",
    "\n",
    "資料從何而來：從Glassdoor上擷取來自Google, Amazon, Facebook, Apple, Microsoft, and Netflix等員工的真實回饋\n",
    "\n",
    "### 3. 蒐集而來的資料型態為何\n",
    "\n",
    "非結構化：企業名稱、企業介紹、位置、工作描述等為文字格式\n",
    "\n",
    "結構化：整題評分、工作生活平衡、企業文化價值、企業福利、資深管理職為數值格式 \n",
    "\n",
    "### 4. 這組資料想解決的問題如何評估\n",
    "\n",
    "・問題：分析哪一項指標是影響人才評估是否加入企業的關鍵\n",
    "\n",
    "・問題：要吸引人才加入，企業可以從哪些方面著手？\n",
    "\n",
    "・執行及評估方式：透過回歸分析看各項指標的評分及排序 \n",
    "\n",
    "\n",
    "## 作業2：想像你經營一個自由載客車隊，你希望能透過數據分析以提升業績，請你思考並描述你如何規劃整體的分析/解決方案：\n",
    "\n",
    "### 1. 核心問題為何 (tips：如何定義 「提升業績 & 你的假設」)\n",
    "\n",
    "###如何提升自由車隊的服務使用率，進而提升年度業績的30%？\n",
    " ・假設發現夜間是搭乘高峰，如何在提升夜間搭乘率30%？\n",
    " ・假設發現日間搭乘服務中來自運送貨品及接送服務占了20%，如何再提升乘客使用率？\n",
    "\n",
    "### 2. 資料從何而來 (tips：哪些資料可能會對你想問的問題產生影響 & 資料如何蒐集)\n",
    "\n",
    "從自由載客LINE的後台，訂車時間、搭乘人數、等待時間、搭乘距離（GPS資料）、支付方式、服務完成率、取消服務率及原因\n",
    "\n",
    "### 3. 蒐集而來的資料型態為何\n",
    "\n",
    "#### 結構化：\n",
    "・訂車時間、等待時間是時間格式\n",
    "\n",
    "・搭乘距離是文字和數字格式\n",
    "\n",
    "・支付方式是文字和數字格式\n",
    "\n",
    "・服務完成率、服務取消率是數字格式\n",
    "\n",
    "#### 非結構化：\n",
    "・取消服務原因為文字格式\n",
    "\n",
    "### 4. 你要回答的問題，其如何評估 (tips：你的假設如何驗證)\n",
    "\n",
    "#### 假設發現夜間是搭乘高峰，如何在提升夜間搭乘率30%？\n",
    "・在夜間熱門時段新增車輛是否能提升業績\n",
    "\n",
    "評估方式：增加一台車輛帶來的業績\n",
    "\n",
    "・優化GPS路線是否能加快車子的使用率，及提供最佳路線給司機\n",
    "\n",
    "評估方式：優化後，每一台車輛得載客次數是否提升\n",
    "\n",
    "・在訂車頁面加入拼車服務\n",
    "\n",
    "評估方式：增加功能後，可依據人數vs路程派送適合的車輛，評估該服務是否增加業績\n",
    "\n",
    "#### 假設發現日間搭乘服務中來自運送貨品及接送服務占了20%，如何再提升乘客使用率？\n",
    "・提供運送貨物優惠碼\n",
    "\n",
    "評估方式：使用自由車隊運送貨物服務的人數是否增加，並瞭解什麼類型的產品會選擇自由車隊協助運送\n",
    "\n",
    "・提供接送服務的訂閱制\n",
    "\n",
    "評估方式：使用接送服務的人群是否增加，並瞭解是哪一群的使用者會選擇自由車隊接送服務"
   ]
  },
  {
   "cell_type": "markdown",
   "metadata": {},
   "source": [
    "## 練習時間\n",
    "#### 請寫一個函式用來計算 Mean Square Error\n",
    "$ MSE = \\frac{1}{n}\\sum_{i=1}^{n}{(Y_i - \\hat{Y}_i)^2} $\n",
    "\n",
    "### Hint: [如何取平方](https://googoodesign.gitbooks.io/-ezpython/unit-1.html)"
   ]
  },
  {
   "cell_type": "code",
   "execution_count": 1,
   "metadata": {},
   "outputs": [],
   "source": [
    "import numpy as np\n",
    "import matplotlib.pyplot as plt"
   ]
  },
  {
   "cell_type": "code",
   "execution_count": 2,
   "metadata": {},
   "outputs": [],
   "source": [
    "def mean_absolute_error(y, yp):\n",
    "    mae = MAE = sum(abs(y - yp)) / len(y)\n",
    "    return mae"
   ]
  },
  {
   "cell_type": "code",
   "execution_count": 3,
   "metadata": {},
   "outputs": [],
   "source": [
    "def mean_squared_error(y,yp):\n",
    "    \"\"\"\n",
    "    請完成這個 Function 後往下執行\n",
    "    \"\"\"\n",
    "    MSE= mse=sum((y-yp)**2)/len(y)\n",
    "    return MSE"
   ]
  },
  {
   "cell_type": "code",
   "execution_count": 4,
   "metadata": {},
   "outputs": [
    {
     "data": {
      "image/png": "[encoded data removed]",
      "text/plain": [
       "<Figure size 432x288 with 1 Axes>"
      ]
     },
     "metadata": {
      "needs_background": "light"
     },
     "output_type": "display_data"
    }
   ],
   "source": [
    "w = 3\n",
    "b = 0.5\n",
    "\n",
    "x_lin = np.linspace(0, 100, 101)\n",
    "\n",
    "y = (x_lin + np.random.randn(101) * 5) * w + b\n",
    "\n",
    "plt.plot(x_lin, y, 'b.', label = 'data points')\n",
    "plt.title(\"Assume we have data points\")\n",
    "plt.legend(loc = 2)\n",
    "plt.show()"
   ]
  },
  {
   "cell_type": "code",
   "execution_count": 5,
   "metadata": {},
   "outputs": [
    {
     "data": {
      "image/png": "[encoded data removed]",
      "text/plain": [
       "<Figure size 432x288 with 1 Axes>"
      ]
     },
     "metadata": {
      "needs_background": "light"
     },
     "output_type": "display_data"
    }
   ],
   "source": [
    "y_hat = x_lin * w + b\n",
    "plt.plot(x_lin, y, 'b.', label = 'data')\n",
    "plt.plot(x_lin, y_hat, 'r-', label = 'prediction')\n",
    "plt.title(\"Assume we have data points (And the prediction)\")\n",
    "plt.legend(loc = 2)\n",
    "plt.show()"
   ]
  },
  {
   "cell_type": "code",
   "execution_count": 6,
   "metadata": {},
   "outputs": [
    {
     "name": "stdout",
     "output_type": "stream",
     "text": [
      "The Mean squared error is 222.219\n",
      "The Mean absolute error is 12.335\n"
     ]
    }
   ],
   "source": [
    "# 執行 Function, 確認有沒有正常執行\n",
    "MSE = mean_squared_error(y, y_hat)\n",
    "MAE = mean_absolute_error(y, y_hat)\n",
    "print(\"The Mean squared error is %.3f\" % (MSE))\n",
    "print(\"The Mean absolute error is %.3f\" % (MAE))"
   ]
  }
 ],
 "metadata": {
  "anaconda-cloud": {},
  "kernelspec": {
   "display_name": "Python 3",
   "language": "python",
   "name": "python3"
  },
  "language_info": {
   "codemirror_mode": {
    "name": "ipython",
    "version": 3
   },
   "file_extension": ".py",
   "mimetype": "text/x-python",
   "name": "python",
   "nbconvert_exporter": "python",
   "pygments_lexer": "ipython3",
   "version": "3.7.1"
  }
 },
 "nbformat": 4,
 "nbformat_minor": 1
}
