{
 "cells": [
  {
   "cell_type": "markdown",
   "metadata": {},
   "source": [
    "## 練習時間\n",
    "在小量的資料上，我們用眼睛就可以看得出來程式碼是否有跑出我們理想中的結果\n",
    "\n",
    "請嘗試想像一個你需要的資料結構 (裡面的值可以是隨機的)，然後用上述的方法把它變成 pandas DataFrame\n",
    "\n",
    "#### Ex: 想像一個 dataframe 有兩個欄位，一個是國家，一個是人口，求人口數最多的國家\n",
    "\n",
    "### Hints: [隨機產生數值](https://blog.csdn.net/christianashannon/article/details/78867204)"
   ]
  },
  {
   "cell_type": "code",
   "execution_count": 7,
   "metadata": {},
   "outputs": [],
   "source": [
    "import pandas as pd\n",
    "import numpy as np"
   ]
  },
  {
   "cell_type": "code",
   "execution_count": 26,
   "metadata": {},
   "outputs": [
    {
     "name": "stdout",
     "output_type": "stream",
     "text": [
      "          國家        人口\n",
      "0  Australia  88856787\n",
      "1      Japan  84191269\n",
      "2      Korea  66595693\n",
      "3     Greece   6672981\n",
      "4       Iraq  83085827\n"
     ]
    }
   ],
   "source": [
    "city = ['Australia','Japan','Korea','Greece','Iraq']\n",
    "\n",
    "#依照人口數，隨機生成對應筆數的資料\n",
    "population = np.random.randint(3000000,100000000,len(city))\n",
    "\n",
    "data = {'國家': city,\n",
    "        '人口': population}\n",
    "data = pd.DataFrame(data)\n",
    "print(data)"
   ]
  },
  {
   "cell_type": "code",
   "execution_count": 27,
   "metadata": {},
   "outputs": [
    {
     "name": "stdout",
     "output_type": "stream",
     "text": [
      "人口數最多的國家：Australia\n"
     ]
    }
   ],
   "source": [
    "#人口數最多的國家，於資料中的 index\n",
    "p_max = data['人口'].idxmax()\n",
    "\n",
    "#找出對應index的國家\n",
    "city_max = data.loc[p_max]['國家']\n",
    "\n",
    "#結果輸出\n",
    "print(\"人口數最多的國家：\" + city_max)"
   ]
  }
 ],
 "metadata": {
  "kernelspec": {
   "display_name": "Python 3",
   "language": "python",
   "name": "python3"
  },
  "language_info": {
   "codemirror_mode": {
    "name": "ipython",
    "version": 3
   },
   "file_extension": ".py",
   "mimetype": "text/x-python",
   "name": "python",
   "nbconvert_exporter": "python",
   "pygments_lexer": "ipython3",
   "version": "3.7.3"
  }
 },
 "nbformat": 4,
 "nbformat_minor": 2
}
